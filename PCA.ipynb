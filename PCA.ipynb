{
 "cells": [
  {
   "cell_type": "code",
   "execution_count": 32,
   "id": "58ba0b39",
   "metadata": {},
   "outputs": [],
   "source": [
    "import numpy as np\n",
    "import pandas as pd\n",
    "import matplotlib.pyplot as plt"
   ]
  },
  {
   "cell_type": "code",
   "execution_count": 33,
   "id": "25ad6546",
   "metadata": {},
   "outputs": [],
   "source": [
    "data=np.array([[2,3,4,5,6,7],[1,5,3,6,7,8]])"
   ]
  },
  {
   "cell_type": "code",
   "execution_count": 34,
   "id": "0d4e2b55",
   "metadata": {},
   "outputs": [],
   "source": [
    "mean=np.mean(data,axis=1)"
   ]
  },
  {
   "cell_type": "code",
   "execution_count": 35,
   "id": "9c1f94a5",
   "metadata": {},
   "outputs": [
    {
     "data": {
      "text/plain": [
       "array([4.5, 5. ])"
      ]
     },
     "execution_count": 35,
     "metadata": {},
     "output_type": "execute_result"
    }
   ],
   "source": [
    "mean"
   ]
  },
  {
   "cell_type": "code",
   "execution_count": 36,
   "id": "6e7928ab",
   "metadata": {},
   "outputs": [],
   "source": [
    "def sub_mean(data,mean):\n",
    "    j=0\n",
    "    for i in range(len(data)):\n",
    "        data[i]=data[i]-mean[j]\n",
    "        j+=1\n",
    "    return data"
   ]
  },
  {
   "cell_type": "code",
   "execution_count": 37,
   "id": "b2affd37",
   "metadata": {},
   "outputs": [],
   "source": [
    "subdata=sub_mean(data,mean)"
   ]
  },
  {
   "cell_type": "code",
   "execution_count": 38,
   "id": "cb218a16",
   "metadata": {},
   "outputs": [
    {
     "data": {
      "text/plain": [
       "array([[-2, -1,  0,  0,  1,  2],\n",
       "       [-4,  0, -2,  1,  2,  3]])"
      ]
     },
     "execution_count": 38,
     "metadata": {},
     "output_type": "execute_result"
    }
   ],
   "source": [
    "subdata"
   ]
  },
  {
   "cell_type": "code",
   "execution_count": 43,
   "id": "ddbd2e5c",
   "metadata": {},
   "outputs": [],
   "source": [
    "cov=np.cov(subdata)"
   ]
  },
  {
   "cell_type": "code",
   "execution_count": 44,
   "id": "4541e15f",
   "metadata": {},
   "outputs": [
    {
     "data": {
      "text/plain": [
       "array([[2. , 3.2],\n",
       "       [3.2, 6.8]])"
      ]
     },
     "execution_count": 44,
     "metadata": {},
     "output_type": "execute_result"
    }
   ],
   "source": [
    "cov"
   ]
  },
  {
   "cell_type": "code",
   "execution_count": 45,
   "id": "9b6602c4",
   "metadata": {},
   "outputs": [],
   "source": [
    "from numpy.linalg import eig\n",
    "w,v=eig(cov)"
   ]
  },
  {
   "cell_type": "code",
   "execution_count": 46,
   "id": "31e300f0",
   "metadata": {},
   "outputs": [
    {
     "data": {
      "text/plain": [
       "array([0.4, 8.4])"
      ]
     },
     "execution_count": 46,
     "metadata": {},
     "output_type": "execute_result"
    }
   ],
   "source": [
    "w"
   ]
  },
  {
   "cell_type": "code",
   "execution_count": 47,
   "id": "a2af79a0",
   "metadata": {},
   "outputs": [
    {
     "data": {
      "text/plain": [
       "array([[-0.89442719, -0.4472136 ],\n",
       "       [ 0.4472136 , -0.89442719]])"
      ]
     },
     "execution_count": 47,
     "metadata": {},
     "output_type": "execute_result"
    }
   ],
   "source": [
    "v"
   ]
  },
  {
   "cell_type": "code",
   "execution_count": null,
   "id": "b718d0f9",
   "metadata": {},
   "outputs": [],
   "source": []
  },
  {
   "cell_type": "code",
   "execution_count": null,
   "id": "07e876c2",
   "metadata": {},
   "outputs": [],
   "source": []
  },
  {
   "cell_type": "code",
   "execution_count": null,
   "id": "1e990d68",
   "metadata": {},
   "outputs": [],
   "source": []
  },
  {
   "cell_type": "code",
   "execution_count": null,
   "id": "f94cb04c",
   "metadata": {},
   "outputs": [],
   "source": []
  }
 ],
 "metadata": {
  "kernelspec": {
   "display_name": "Python 3",
   "language": "python",
   "name": "python3"
  },
  "language_info": {
   "codemirror_mode": {
    "name": "ipython",
    "version": 3
   },
   "file_extension": ".py",
   "mimetype": "text/x-python",
   "name": "python",
   "nbconvert_exporter": "python",
   "pygments_lexer": "ipython3",
   "version": "3.8.8"
  }
 },
 "nbformat": 4,
 "nbformat_minor": 5
}
